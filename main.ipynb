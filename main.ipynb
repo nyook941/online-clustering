{
 "cells": [
  {
   "cell_type": "code",
   "execution_count": null,
   "metadata": {},
   "outputs": [],
   "source": [
    "FRAME_SIZE = 150\n",
    "HOP_RATIO = 0.1\n",
    "N_FFT = 1024\n",
    "VIGILANCE = 1.4"
   ]
  },
  {
   "cell_type": "code",
   "execution_count": null,
   "metadata": {},
   "outputs": [],
   "source": [
    "import importlib\n",
    "import modules.AudioProcessor\n",
    "importlib.reload(modules.AudioProcessor)\n",
    "from modules.AudioProcessor import AudioProcessor\n",
    "\n",
    "audio_files = [\n",
    "    './dataset/trimmed_crowd_talking.mp3',\n",
    "    './dataset/trimmed_motor_riding.mp3',\n",
    "    './dataset/trimmed_water_flowing.mp3'\n",
    "]\n",
    "ap = AudioProcessor(\n",
    "    audio_files, \n",
    "    frame_size_ms=FRAME_SIZE, \n",
    "    hop_length_ratio=HOP_RATIO\n",
    "    )\n",
    "print(ap.frames.shape)\n",
    "print(ap.class_ids.shape)\n",
    "print(ap.timestamps.shape)"
   ]
  },
  {
   "cell_type": "code",
   "execution_count": null,
   "metadata": {},
   "outputs": [],
   "source": [
    "import importlib\n",
    "import modules.FeatureExtractor\n",
    "importlib.reload(modules.FeatureExtractor)\n",
    "from modules.FeatureExtractor import FeatureExtractor\n",
    "\n",
    "fe = FeatureExtractor(n_fft=N_FFT)\n",
    "fe.extract_mfcc(ap.frames)\n",
    "fe.plot_mfccs()\n",
    "fe.mfcc_features.shape"
   ]
  },
  {
   "cell_type": "code",
   "execution_count": null,
   "metadata": {},
   "outputs": [],
   "source": [
    "fe.extract_melspectrogram(ap.frames)\n",
    "fe.plot_melspectrogram()\n",
    "fe.melspectrogram_features.shape"
   ]
  },
  {
   "cell_type": "code",
   "execution_count": null,
   "metadata": {},
   "outputs": [],
   "source": [
    "import warnings\n",
    "import importlib\n",
    "import modules.DatasetHandler\n",
    "importlib.reload(modules.DatasetHandler)\n",
    "from modules.DatasetHandler import DatasetHandler\n",
    "\n",
    "warnings.filterwarnings(\"ignore\")\n",
    "\n",
    "dh = DatasetHandler(\n",
    "    class_ids=ap.class_ids,\n",
    "    timestamps=ap.timestamps, \n",
    "    mfccs=fe.mfcc_features, \n",
    "    mfsc=fe.melspectrogram_features,\n",
    "    output_dir='output/no_pca' \n",
    ")\n",
    "dh.generate_csv('all_features.csv')"
   ]
  },
  {
   "cell_type": "code",
   "execution_count": null,
   "metadata": {},
   "outputs": [],
   "source": [
    "important_mfccs = [i for i in range(13)]\n",
    "important_mfsc = []\n",
    "dh.save_selected_features(important_mfccs, important_mfsc, \"mfccs_only.csv\")\n",
    "time_series_tensor = dh.generate_time_series('mfccs_only.csv', 'mfccs')\n",
    "\n",
    "important_mfccs = []\n",
    "important_mfsc = [i for i in range(40)]\n",
    "dh.save_selected_features(important_mfccs, important_mfsc, \"melspec_only.csv\")\n",
    "time_series_tensor = dh.generate_time_series('melspec_only.csv', 'melspec')\n",
    "\n",
    "important_mfccs = [1, 3, 4, 5, 6, 7, 8, 9, 10, 11]\n",
    "important_mfsc = [i for i in range(14)] + [i for i in range(16, 35)]\n",
    "dh.save_selected_features(important_mfccs, important_mfsc, \"combined.csv\")\n",
    "time_series_tensor = dh.generate_time_series('combined.csv', 'combined')\n"
   ]
  },
  {
   "cell_type": "code",
   "execution_count": null,
   "metadata": {},
   "outputs": [],
   "source": [
    "import modules.ART2Clusterer\n",
    "importlib.reload(modules.ART2Clusterer)\n",
    "from modules.ART2Clusterer import ART2Clusterer\n",
    "import pandas as pd\n",
    "\n",
    "def cluster_dataset(i, filename, n_features, plot_name, vigilance, pca=False):\n",
    "    magenta = \"\\033[35m\"\n",
    "    green = \"\\033[32m\"\n",
    "    end = \"\\033[0m\"\n",
    "    print(f\"{magenta}Clustering time series {i}{end} - {filename} features\")\n",
    "    df = pd.read_csv(f'output/{\"\" if pca else \"no_\"}pca/time_series_{i}/{filename}_{i}.csv')\n",
    "    clusterer = ART2Clusterer(\n",
    "        vigilance=vigilance, \n",
    "        n_features=n_features,\n",
    "        time_series_index=i,\n",
    "    )\n",
    "    for index, row in df.iterrows():\n",
    "        clusterer.fit_clusters(row)\n",
    "\n",
    "    clusterer.write_to_csv()\n",
    "    conf_matrix, acc = clusterer.calc_accuracy()\n",
    "    print(f\"{green}Accuracy:{end} {acc}\")\n",
    "    print(f\"{green}Confusion Matrix:{end}\\n{conf_matrix}\")\n",
    "    clusterer.plot_truth_vs_time(plot_name)"
   ]
  },
  {
   "cell_type": "code",
   "execution_count": null,
   "metadata": {},
   "outputs": [],
   "source": [
    "n_features = len(important_mfccs) + len(important_mfsc)\n",
    "for i in range(5):\n",
    "    cluster_dataset(i, 'mfccs', 13, 'MFCCs Only Ground Truth vs Predicted Labels', VIGILANCE)\n",
    "    cluster_dataset(i, 'melspec', 40, 'MFSCs Only Ground Truth vs Predicted Labels', VIGILANCE)\n",
    "    cluster_dataset(i, 'combined', n_features, 'Combined Ground Truth vs Predicted Labels', VIGILANCE)\n",
    "    print('-'*80)"
   ]
  },
  {
   "cell_type": "code",
   "execution_count": null,
   "metadata": {},
   "outputs": [],
   "source": [
    "import modules.PCA\n",
    "importlib.reload(modules.PCA)\n",
    "from modules.PCA import PCA\n",
    "\n",
    "mfccs_pca = PCA('output/no_pca/mfccs_only.csv')\n",
    "mfsc_pca = PCA('output/no_pca/melspec_only.csv')\n",
    "combined_pca = PCA('output/no_pca/combined.csv')\n",
    "dh.set_output('output/pca')\n",
    "\n",
    "dh.features = mfccs_pca.projected_data\n",
    "dh.generate_csv(\"mfccs_only.csv\", pca=True)\n",
    "time_series_tensor = dh.generate_time_series('mfccs_only.csv', 'mfccs')\n",
    "\n",
    "dh.features = mfsc_pca.projected_data\n",
    "dh.generate_csv(\"melspec_only.csv\", pca=True)\n",
    "time_series_tensor = dh.generate_time_series('melspec_only.csv', 'melspec')\n",
    "\n",
    "dh.features = combined_pca.projected_data\n",
    "dh.generate_csv(\"combined.csv\", pca=True)\n",
    "time_series_tensor = dh.generate_time_series('combined.csv', 'combined')\n",
    "\n",
    "\n",
    "\n"
   ]
  },
  {
   "cell_type": "code",
   "execution_count": null,
   "metadata": {},
   "outputs": [],
   "source": [
    "VIGILANCE_PCA = 0.45\n",
    "\n",
    "for i in range(5):\n",
    "    cluster_dataset(i, 'mfccs', mfccs_pca.projected_data.shape[1], 'PCA MFCCs Only Ground Truth vs Predicted Labels', VIGILANCE_PCA, True)\n",
    "    cluster_dataset(i, 'melspec', mfsc_pca.projected_data.shape[1], 'PCA MFSCs Only Ground Truth vs Predicted Labels', VIGILANCE_PCA, True)\n",
    "    cluster_dataset(i, 'combined', combined_pca.projected_data.shape[1], 'PCA Combined Ground Truth vs Predicted Labels', VIGILANCE_PCA, True)\n",
    "    print('-'*80)"
   ]
  },
  {
   "cell_type": "code",
   "execution_count": null,
   "metadata": {},
   "outputs": [],
   "source": []
  }
 ],
 "metadata": {
  "kernelspec": {
   "display_name": "test1",
   "language": "python",
   "name": "python3"
  },
  "language_info": {
   "codemirror_mode": {
    "name": "ipython",
    "version": 3
   },
   "file_extension": ".py",
   "mimetype": "text/x-python",
   "name": "python",
   "nbconvert_exporter": "python",
   "pygments_lexer": "ipython3",
   "version": "3.9.20"
  }
 },
 "nbformat": 4,
 "nbformat_minor": 2
}
